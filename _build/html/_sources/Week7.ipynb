{
 "cells": [
  {
   "cell_type": "markdown",
   "metadata": {},
   "source": [
    "# Week 7\n",
    "## Overview\n",
    "\n",
    "This week's curriculum focuses in figuring out (and visualizing) what's special about a certain text (or collection of texts). We'll also learn about community detection in networks (that's how we'll get our groups of text)\n",
    "\n",
    "* Tricks for raw text (NLPP, Chapter 3).\n",
    "* Community Detection and info-boxes \n",
    "* Identifying important words in a document (TF-IDF)\n",
    "\n",
    "In the first part, we will take a quick tour of NLPP1e's chapter 3, which is boring, super useful ressource. Then we'll talk about how we can use simple statistics & machine learning to get text to show us what it's all about. We will even do a little visualization. \n",
    "\n",
    "In the latter parts we will go back to network science, discussing community detection, mixing in some NLP, and trying it all out on our very own dataset.\n"
   ]
  },
  {
   "cell_type": "markdown",
   "metadata": {},
   "source": [
    "# Part 1: Processing real text (from out on the inter-webs)\n",
    "\n",
    "Ok. So Chapter 3 in NLPP is all about working with text from the real world. Getting text from this internet, cleaning it, tokenizing, modifying (e.g. stemming, converting to lower case, etc) to get the text in shape to work with the NLTK tools you've already learned about - and many more. \n",
    "\n",
    "In the process we'll learn more about regular expressions, as well as unicode; something we've already been struggling with a little bit will now be explained in more detail. \n",
    "\n",
    "<div class=\"alert alert-block alert-info\">\n",
    "One of the things that the LLMs have changed is how we don't have to suffer over regular expressions as much as in the old days. As I talk about in the video, regular expressions used to be a big, painful part of working with text. Nowadays, we can simply ask an LLM to help construct them ... and it tends to work really well. And regular expressions are not really important to know about - you need to know they exist so you can used them, but the details are not worth remembering. So this is one area where you can use LLMs as much as you like without a guilty conscience. (But remember to check and test the results thoroughly! The LLMs might still make mistakes.)\n",
    "</div>\n",
    "\n",
    "> \n",
    "> **Video lecture**: Short overview of chapter 3 + a few words about kinds of language processing that we don't address in this class. \n",
    "> "
   ]
  },
  {
   "cell_type": "code",
   "execution_count": 1,
   "metadata": {},
   "outputs": [
    {
     "data": {
      "image/jpeg": "[encoded data removed]",
      "text/html": [
       "\n",
       "        <iframe\n",
       "            width=\"800\"\n",
       "            height=\"450\"\n",
       "            src=\"https://www.youtube.com/embed/Rwakh-HXPJk\"\n",
       "            frameborder=\"0\"\n",
       "            allowfullscreen\n",
       "            \n",
       "        ></iframe>\n",
       "        "
      ],
      "text/plain": [
       "<IPython.lib.display.YouTubeVideo at 0x10724c6e0>"
      ]
     },
     "execution_count": 1,
     "metadata": {},
     "output_type": "execute_result"
    }
   ],
   "source": [
    "from IPython.display import YouTubeVideo\n",
    "YouTubeVideo(\"Rwakh-HXPJk\",width=800, height=450)"
   ]
  },
  {
   "cell_type": "markdown",
   "metadata": {},
   "source": [
    "> *Reading*: NLPP Chapter 3.1, 3.2, 3.3, 3.4, 3.5, 3.6, 3.7, 3.9, and 3.10\\. It's not important that you go in depth with everything here - the key think is that you *know that Chapter 3 of this book exists*, and that it's a great place to return to if you're ever in need of an explanation of regular expressions, unicode, or other topics that you forget as soon as you stop using them (and don't worry, I forget about those things too).\n",
    "> "
   ]
  },
  {
   "cell_type": "markdown",
   "metadata": {},
   "source": [
    "# Part 2: Community detection"
   ]
  },
  {
   "cell_type": "markdown",
   "metadata": {},
   "source": [
    "Let's begin by watching a lecture to learn about communities. If you want all the details, I recommend you take a look at _Chapter 9_ in the _Network Science_ book ... but the video lecture below should be enough to get you started. \n",
    "\n",
    "**Note**: For this and the next exercise, work on the _undirected_ version of the network.\n",
    "\n",
    "> **_Video Lecture_**: Communities in networks. "
   ]
  },
  {
   "cell_type": "code",
   "execution_count": 2,
   "metadata": {
    "scrolled": true
   },
   "outputs": [
    {
     "data": {
      "image/jpeg": "[encoded data removed]",
      "text/html": [
       "\n",
       "        <iframe\n",
       "            width=\"800\"\n",
       "            height=\"450\"\n",
       "            src=\"https://www.youtube.com/embed/FSRoqXw28RI\"\n",
       "            frameborder=\"0\"\n",
       "            allowfullscreen\n",
       "            \n",
       "        ></iframe>\n",
       "        "
      ],
      "text/plain": [
       "<IPython.lib.display.YouTubeVideo at 0x107071950>"
      ]
     },
     "execution_count": 2,
     "metadata": {},
     "output_type": "execute_result"
    }
   ],
   "source": [
    "YouTubeVideo(\"FSRoqXw28RI\",width=800, height=450)\n",
    "\n",
    "# direct youtube link: https://www.youtube.com/watch?v=FSRoqXw28RI"
   ]
  },
  {
   "cell_type": "markdown",
   "metadata": {},
   "source": [
    "Before we get started on *network* communities, we'll grab some information on a different kind of communities based on information from Wikipedia. Specifically, the ``infoboxes``. An infobox is the little box usually displayed on the right when you open an artist's page. \n",
    "\n",
    "For example if you open the page for [The Rolling Stones](https://en.wikipedia.org/wiki/The_Rolling_Stones), you'll see that it contains info about their place of ***origin***, the ***genre***s of music they've been associated with (in the case of the Stones it's `rock`, `pop` and `blues`), their ***year's active***, the record ***labels*** they've signed with over time, etc. All really interesting information if we want to understand the network of artists.\n",
    "\n",
    "So let's start with an exercise designed to give you a sense of how good the LLMs are at the whole text-parsing thing.\n",
    "\n",
    "*Exercise*: Go nuts with an LLM and get all the genres for the nodes in your network\n",
    "> * Yes, I'm serious. For this one I'd like you to fire up your most powerful thinking model you have access to and get it to write a script to extract genre for all nodes in your network. Some notes to help you\n",
    ">   * If the node doesn't have an `infobox` (or if a node's infobox doesn't have a `genre` it it), just don't assign that node a genre and ignore it in the downstream analysis\n",
    ">   * Remember to lowercase all genres, also consider simplifying things by mapping `rock'n'roll`, `rock & roll`, etc to a single genre. \n",
    ">   * Remember to test your algorithm well before emplying it, since you're not writing the code yourself, you need to work harder to prove to yourself that it's actually doing what you think it's doing. You should inspect the code to understand what it's actually doing and also test it on the strangest edge-cases you can find. (Can it handle, \"The Animals\", for example).\n",
    ">   * The output should be a dictionary mapping artist names to lists of genres (since most artists have multiple genres listed).\n",
    "> * Report the following stats\n",
    ">   * The number of nodes for which you could find genres\n",
    ">   * The average number of genres per node\n",
    ">   * The total number of distinct genres\n",
    ">   * A histogram showing artist counts for the top 15 genres\n",
    "\n",
    "<div class=\"alert alert-block alert-info\">\n",
    "LLMs all the way for this one. \n",
    "</div>"
   ]
  },
  {
   "cell_type": "markdown",
   "metadata": {},
   "source": [
    "Now that we have the genres, let's use them - and see how community-like the community is, if we consider the genres to be community labels.\n",
    "\n",
    "\n",
    "*Exercise*: Use the concept of modularity to explore how _community-like_ the genres are.\n",
    "> \n",
    "> * Explain the concept of modularity in your own words.\n",
    "> * Work from the undirected version of the network, keeping only the nodes for which you have genre information. \n",
    "> * Now create your own partition of the network into genres.\n",
    ">      * **Each node is simply characterized by the *first genre* in its list of genres**.\n",
    ">      * Each community is the group of nodes that share the same genre.\n",
    ">      * That's all you need, now calculate the modularity of this division of the network into genres.\n",
    ">      * **Note**: Modularity is described in the _Network Science_ book, section 9.4.. Thus, use **equation 9.12** in the book to calculate the modularity $M$ of the partition described above. Are the genres good communities?\n",
    "> * Thinking a bit about the underlying data, a potential issue is the following: Many artists have the genre `rock` as their first genre in the list (since we started from a list of `rock` bands). So if `rock` is a big community, the network won't have very high modularity.\n",
    ">      * What happens to the modularity if you use a random genre from the list genre as the node-label for those nodes with more than one genre listed?\n",
    "> * Discuss your findings - and decide how you want to settle on a single genre for each band.  \n",
    "\n",
    "<div class=\"alert alert-block alert-info\">\n",
    "Overall, it's OK to use an LLM to help with the code here. But do write your own explanation of modularity, and do try to implement a modularity on your own from eq 9.12 in the book.\n",
    "</div>"
   ]
  },
  {
   "cell_type": "markdown",
   "metadata": {},
   "source": [
    "*Exercise*: Community detection to find **structral communities** in the network\n",
    "> * Again, work only with the subnetwork of nodes that have at least one genre.\n",
    "> * Use [the Louvain-algorithm](https://networkx.org/documentation/stable/reference/algorithms/generated/networkx.algorithms.community.louvain.louvain_communities.html) to find communities for the network. Report the value of modularity found by the algorithm. \n",
    ">     * **Note**: You can also try the *Infomap* algorithm instead if you're curious. Go to http://www.mapequation.org/code.html and search for 'python'. It's harder to install, but a better community detection algorithm.\n",
    "> * What is the modularity of this partitioning of the network? Is it more community-like than the genres? What does this comparison reveal about the communities?\n",
    "> * Visualize the network, using the Force Atlas algorithm.\n",
    ">     * This time assign each node a different color based on its structural _community_.\n",
    ">     * **Note**: If there's a lot of small communities, it's OK to only color the 5-10 largest communities (you can make the remaing nodes light gray or some netural color)\n",
    ">     * Describe the structure you observe.\n",
    "> * Keep using the community labels from above, but now visualize only the backbone-edges from your favorite network backbone from last week. Do the community correspond to the backbone structure you detected?\n",
    "\n",
    "<div class=\"alert alert-block alert-info\">\n",
    "It's OK to use an LLM to help with the code here. \n",
    "</div>"
   ]
  },
  {
   "cell_type": "markdown",
   "metadata": {},
   "source": [
    "Ok, now in this final community exercise, we want to check if the genres align with the communities.\n",
    "\n",
    "\n",
    "> *Exercise*: Communities versus genres.\n",
    "> * Compare the communities found by your algorithm with the music genres by creating a matrix $D$ with dimension ($G \\times C$), where G is the 7 most common genres and C is the 7 most common communities. We set entry $D(i,j)$ to be the number of nodes that genre $i$ has in common with community $j$. The matrix $D$ is what we call a confusion matrix.\n",
    "> * Use the confusion matrix to explain how well the communities you've detected correspond to the genres.\n",
    ">     * **Note**: This time, use all the genres associate with each node\n",
    ">     * **Note**: If a node is not characterized by any of the 7 most popular genres, just ignore it.\n",
    ">     * **Note**: If a node is not part of by any of the 7 largest communiteis, just ignore it.\n",
    "\n",
    "<div class=\"alert alert-block alert-info\">\n",
    "Again, you may use an LLM to help with the code for this assignment. The main thing is you get the D matrix right and interpret it.\n",
    "</div>"
   ]
  },
  {
   "cell_type": "markdown",
   "metadata": {},
   "source": [
    "# Part 3: Words that characterize pages or groups of pages\n",
    "\n",
    "Now, we'll begin to play around with how far we can get with simple strategies for looking at text. \n",
    "\n",
    "The video is basically just me talking about a fun paper, which shows you how little is needed in order to reveal something highly interesting about humans that produce text. But it's important. Don't miss this one!"
   ]
  },
  {
   "cell_type": "markdown",
   "metadata": {},
   "source": [
    "> **Video lecture**: Simple methods reveal a lot. I talk about the paper: [Personality, Gender, and Age in the Language of Social Media: The Open-Vocabulary Approach](http://journals.plos.org/plosone/article?id=10.1371/journal.pone.0073791).  "
   ]
  },
  {
   "cell_type": "code",
   "execution_count": 3,
   "metadata": {},
   "outputs": [
    {
     "data": {
      "image/jpeg": "[encoded data removed]",
      "text/html": [
       "\n",
       "        <iframe\n",
       "            width=\"800\"\n",
       "            height=\"450\"\n",
       "            src=\"https://www.youtube.com/embed/wkYvdfkVmlI\"\n",
       "            frameborder=\"0\"\n",
       "            allowfullscreen\n",
       "            \n",
       "        ></iframe>\n",
       "        "
      ],
      "text/plain": [
       "<IPython.lib.display.YouTubeVideo at 0x107071d10>"
      ]
     },
     "execution_count": 3,
     "metadata": {},
     "output_type": "execute_result"
    }
   ],
   "source": [
    "YouTubeVideo(\"wkYvdfkVmlI\",width=800, height=450)\n",
    "\n",
    "# direct youtube link: https://www.youtube.com/watch?v=wkYvdfkVmlI"
   ]
  },
  {
   "cell_type": "markdown",
   "metadata": {},
   "source": [
    "_Exercise_: Comparing in the different genres. \n",
    "\n",
    "*Setup*. You'll need to go to your archives and find the wikipedia pages of all the rock artists. \n",
    "\n",
    "Once you have the texts ready, you will want to aggregate the text into 15 long lists, one for each of the top 15 genres (let's call them 15 *documents*). Each document contains on all the text in that genre (so for the rock genre it's a looooong big doc). In each list, you should keep all the words (or *tokens* to be more precise) that occur on the pages, and a count of how frequently each word occurs. So the format should be\n",
    "\n",
    "```\n",
    "word0 count0\n",
    "word1 count1\n",
    "word2 count2\n",
    "\n",
    "...\n",
    "\n",
    "wordN countN\n",
    "```\n",
    "This list is called a ***Term Frequency*** (or TF) list for each genre. Let's build our own TF lists. Before you start counting, I am going to ask you do do a few things\n",
    "\n",
    "> *Action items*\n",
    "> * Tokenize the pages into one long string per genre\n",
    "> * Remove all punctuation from your list of tokens\n",
    "> * Set everything to lower case\n",
    "> * (Optional) Lemmatize your words\n",
    "> * It's a good idea to filter out rare words (e.g. words that only appear less than 5 times).\n",
    "\n",
    "If you are confused by the instructions for cleaning, go back and have a look at Chapter 3 again. You need to use the tools from the book to clean the text.\n",
    "\n",
    "> *Action item*: \n",
    "> * Create your TF list for each of the 15 most popular genres.\n",
    "> * List the top 15 words for each genre.\n",
    "> * Comment on the top 15 words for each genre.\n",
    "\n",
    "**Note**: Above you (once again) have to deal with the fact that many artists have multiple genres listed. Pick the method you like the best to deal with this. Some possible choices\n",
    "* Counting each page multiple times, so a page counts once per genre that's listed\n",
    "* Picking the first genre listed\n",
    "* Picking the second genre listed\n",
    "* Picking a random genre\n",
    "* (... any other heuristic you like, e.g. using an api to ask an LLM to pick the genre that best describes the page from its list)\n",
    "\n",
    "<div class=\"alert alert-block alert-info\">\n",
    "It's OK to use an LLM to help with the code here, but write your own comments.\n",
    "</div>"
   ]
  },
  {
   "cell_type": "markdown",
   "metadata": {},
   "source": [
    "# Part 4: Visualization\n",
    "\n",
    "**Step 1: Install the software**\n",
    "\n",
    "First you must set up your system. The most difficult thing about creating the wordcloud is installing the `WordCloud` module. It's available on GitHub, check out the page [**here**](https://github.com/amueller/word_cloud). \n",
    "\n",
    "You should be able to simply install using conda (and all dependencies, etc will be automatically fixed): \n",
    "\n",
    "    conda install -c conda-forge wordcloud\n",
    " \n",
    "If you can't get that to work, there is more info on the GitHub page\n",
    " * On my system, the module needed the `gcc` compiler installed. If you're not already a programmer, you may have to install that. On Mac you get it by installing the [_command line tools_](http://osxdaily.com/2014/02/12/install-command-line-tools-mac-os-x/). On linux, it's probably already installed. And on Windows I'm not sure, but we'll figure it out during the exercises. \n",
    " * Once that's all set up, you can use `pip` to install the `WordCloud` library, as [detailed on the GitHub page](https://github.com/amueller/word_cloud). But don't forget to use Anaconda's `pip`.\n",
    " * There are examples of how to use the module online, see [this page](http://sebastianraschka.com/Articles/2014_twitter_wordcloud.html) for a nice example. If you're interested, you can read about how the package was put together - and how it works [here](http://peekaboo-vision.blogspot.dk/2012/11/a-wordcloud-in-python.html). "
   ]
  },
  {
   "cell_type": "markdown",
   "metadata": {},
   "source": [
    "**Step 2: Draw some wordclouds**\n",
    "\n",
    "> *Action items*\n",
    "> * Get your lists ready for the word-cloud software\n",
    ">    - The package needs a single string to work on. The way that I converted my lists to a string was to simply combine all words together in one long string (separated by spaces), repeating each word according to its count. \n",
    ">    - The `wordcloud` package looks for collocations in real texts, which is a problem when you make the list as above. The recommended fix is to simply set `collocations = False` as an option when you run the package.\n",
    "> * Now, create a word-cloud for each genre. Feel free to make it as fancy or non-fancy as you like. Comment on the results. (If you'd like, you can remove stopwords and wiki-syntax - I did a bit of that for my own wordclouds.)\n",
    "\n",
    "<div class=\"alert alert-block alert-info\">\n",
    "As above, it's OK to use an LLM to help get the code going. But write your own answers to the questions.\n",
    "</div>"
   ]
  },
  {
   "cell_type": "markdown",
   "metadata": {},
   "source": [
    "# Part 5: Understanding TF-IDF\n",
    "\n",
    "Now we jump back into the NLP work. In this last part, we'll be creating word-clouds again. But this time, we'll be using the method from the paper I discuss above: TF-IDF. Historically people have had a hard time grasping the idea behind TF-IDF, so here's a little exercise designed to make you study it a bit more carefully.\n",
    "\n",
    "*Exercise 4*: Wrap your brain around TF-IDF\n",
    "\n",
    "First, let's learn about TF-IDF the way wikipedia explains it. Check out [the wikipedia page for TF-IDF](https://en.wikipedia.org/wiki/Tf%E2%80%93idf) and ***read the first part very carefully***. The idea is that the term frequency doesn't capture just what's special about a text. It also only captures words that are just frequent in all text. \n",
    "\n",
    "This is clear from the top counts in one of my lists:\n",
    "\n",
    "```\n",
    "of \n",
    "in \n",
    "and \n",
    "the \n",
    "to \n",
    "a \n",
    "is\n",
    "by\n",
    "was\n",
    "as\n",
    "ref\n",
    "with\n",
    "first\n",
    " ```\n",
    " \n",
    "You can fix some of this by removing stop-words (as is described in the book), but it's not enough. ***We want to pull out what's special about a particular text.*** \n",
    "\n",
    "To focus on just what's special, TF-IDF has two components: The *term frequency* (TF) and a *weight* (IDF). The weight draws on a larger corpus of text emphasize what's special about the text we're interested in.\n",
    "\n",
    "Further, there are some extra things going on. For example, there are multiple definitions of TF on wikipedia. Above, we just looked at the raw counts.\n",
    "\n",
    "> *Action item*\n",
    ">   * Pick one of the alternative term frequency definitions. Explain why it might sometimes be prefereable to the raw count.\n",
    "\n",
    "Now, let's talk about the inverse document frequency.\n",
    "\n",
    "> *Action item*\n",
    ">   * What does IDF stand for? Answer in your own words.\n",
    ">   * How does IDF draw on a larger corpus to extract what's special a certain text? Answer in your own words.\n",
    "\n",
    "There are also multiple versions of IDF. Let's think about those for a moment.\n",
    "\n",
    "> *Action items*\n",
    ">   * All of the IDF versions take the log of the calculated weight. Why do you think that is?\n",
    ">   * Explain why using IDF makes stopword removal less important.\n",
    "\n",
    "<div class=\"alert alert-block alert-info\">\n",
    "The point of this exercise is to understand TF-IDF. So if there are parts of the wikipedia page you don't understand, I encourage you to ask questions to an LLM to really understand the concept. Perhaps ask it to explain TF-IDF at the level of a high-school student. Once you've done that, then answer the questions in the action items on your own.\n",
    "</div>"
   ]
  },
  {
   "cell_type": "markdown",
   "metadata": {},
   "source": [
    "# Part 6: Genres and TF-IDF word-clouds\n",
    "\n",
    "**But wait a minute!** Now we have all of the ingredients for a wonderful cocktail 😎\n",
    "\n",
    "* We have genres - descriptions of related nodes in the network. \n",
    "* And you're an expert on TF-IDF, so you can extract words that characterize a text relative to everything that's going on.\n",
    "* Finally, you can create nice WordCouds!\n",
    "\n",
    "So let's put it all together. Let's use TF-IDF and wordcoulds to build a deeper understanding of the top communities.\n",
    "\n",
    "Thus, the aim of this final part is to create genre wordclouds for the top 15 genres based on TF-IDF. \n",
    "\n",
    "For each genre, create a single document for each community consisting of all the cleaned text from all members of the community. So in the end, you should have 15 documents in total.\n",
    "\n",
    "_Exercise_: Genre Word-clouds\n",
    "\n",
    "> * Now that we have the community-texts, let's start by grabbing the TF lists from the exercise above (you may modify to use whichever version of TF you like). \n",
    "> * Next, calculate IDF for every word in every list (use whichever version of IDF you like). \n",
    ">   * Which base logarithm did you use? Is that important?\n",
    "> * We're now ready to calculate TF-IDFs. Do that for each genre. \n",
    ">   * List the 10 top words for each genre accourding to TF-IDF. Are these 10 words more descriptive of the genre than just the TF? Justify your answer.\n",
    "> * Create a wordcloud for each genre.\n",
    ">     * **Note**: you may have to rescale the TF-IDF weights so they make sense to the wordcloud package. Write about this issue and how you solve it.\n",
    "> * Explain your creation. Do the wordclouds/TF-IDF lists enable you to understand the communities you have found (or is it just gibberish)? Justify your answer.\n",
    "\n",
    "<div class=\"alert alert-block alert-info\">\n",
    "Overall, it's OK to use an LLM to help with the code. But do write your own answers to the questions.\n",
    "</div>"
   ]
  },
  {
   "cell_type": "markdown",
   "metadata": {},
   "source": [
    "*Exercise*: Community Word-clouds\n",
    "> * Redo the exercise above but for the 15 largest structural communities.\n",
    "> * Do the word clouds seem more meaningful than for the genres? Optional: Add nuance to your answer by considering the confusion matrix $D$ that you calculated above.\n",
    "\n",
    "Note that this is a great way of characterizing the structural communities if you don't have genre-labels (or other labels for that matter).\n",
    "\n",
    "<div class=\"alert alert-block alert-info\">\n",
    "Todays exercices are getting, long and involved so you can do whatever parts of this one that you like with LLMs. Maybe you can even get one to solve the whole exercise?\n",
    "</div>"
   ]
  },
  {
   "cell_type": "code",
   "execution_count": null,
   "metadata": {},
   "outputs": [],
   "source": []
  }
 ],
 "metadata": {
  "anaconda-cloud": {},
  "kernelspec": {
   "display_name": "Python 3 (ipykernel)",
   "language": "python",
   "name": "python3"
  },
  "language_info": {
   "codemirror_mode": {
    "name": "ipython",
    "version": 3
   },
   "file_extension": ".py",
   "mimetype": "text/x-python",
   "name": "python",
   "nbconvert_exporter": "python",
   "pygments_lexer": "ipython3",
   "version": "3.13.5"
  }
 },
 "nbformat": 4,
 "nbformat_minor": 4
}
